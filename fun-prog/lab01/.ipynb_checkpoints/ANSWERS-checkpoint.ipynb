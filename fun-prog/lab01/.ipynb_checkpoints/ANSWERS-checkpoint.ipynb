{
 "cells": [
  {
   "cell_type": "markdown",
   "id": "45d9ea7d-052d-468c-9ab2-3765fea86ba5",
   "metadata": {},
   "source": [
    "## Task 6"
   ]
  },
  {
   "cell_type": "code",
   "execution_count": null,
   "id": "7cd2e35d-af65-41f5-9a6c-80475f7d4f03",
   "metadata": {},
   "outputs": [],
   "source": []
  },
  {
   "cell_type": "code",
   "execution_count": 3,
   "id": "3620e6d6-e3ae-422e-8dd9-79db49bc4872",
   "metadata": {},
   "outputs": [
    {
     "data": {
      "text/plain": [
       "val ctrue : 'a -> 'b -> 'a = <fun>\n"
      ]
     },
     "execution_count": 3,
     "metadata": {},
     "output_type": "execute_result"
    },
    {
     "data": {
      "text/plain": [
       "val cfalse : 'a -> 'b -> 'b = <fun>\n"
      ]
     },
     "execution_count": 3,
     "metadata": {},
     "output_type": "execute_result"
    },
    {
     "data": {
      "text/plain": [
       "val cand : ('a -> 'b -> 'c) -> ('d -> 'b -> 'a) -> 'd -> 'b -> 'c = <fun>\n"
      ]
     },
     "execution_count": 3,
     "metadata": {},
     "output_type": "execute_result"
    },
    {
     "data": {
      "text/plain": [
       "val cor : ('a -> 'b -> 'c) -> ('a -> 'd -> 'b) -> 'a -> 'd -> 'c = <fun>\n"
      ]
     },
     "execution_count": 3,
     "metadata": {},
     "output_type": "execute_result"
    },
    {
     "data": {
      "text/plain": [
       "val cbool_of_bool : bool -> 'a -> 'a -> 'a = <fun>\n"
      ]
     },
     "execution_count": 3,
     "metadata": {},
     "output_type": "execute_result"
    },
    {
     "data": {
      "text/plain": [
       "val bool_of_cbool : (bool -> bool -> 'a) -> 'a = <fun>\n"
      ]
     },
     "execution_count": 3,
     "metadata": {},
     "output_type": "execute_result"
    }
   ],
   "source": [
    "let ctrue a b = a\n",
    "let cfalse a b = b\n",
    "let cand f1 f2 a b = f1 (f2 a b) b\n",
    "let cor f1 f2 a b = f1 a (f2 a b)\n",
    "let cbool_of_bool b = if b then ctrue else cfalse\n",
    "let bool_of_cbool f = f true false"
   ]
  },
  {
   "cell_type": "code",
   "execution_count": 4,
   "id": "1612c34a-87a2-4517-a846-fd1133295811",
   "metadata": {},
   "outputs": [
    {
     "data": {
      "text/plain": [
       "val hd : (int -> 'a) -> 'a = <fun>\n"
      ]
     },
     "execution_count": 4,
     "metadata": {},
     "output_type": "execute_result"
    },
    {
     "data": {
      "text/plain": [
       "val tl : (int -> 'a) -> int -> 'a = <fun>\n"
      ]
     },
     "execution_count": 4,
     "metadata": {},
     "output_type": "execute_result"
    },
    {
     "data": {
      "text/plain": [
       "val add : int -> ('a -> int) -> 'a -> int = <fun>\n"
      ]
     },
     "execution_count": 4,
     "metadata": {},
     "output_type": "execute_result"
    },
    {
     "data": {
      "text/plain": [
       "val map : ('a -> 'b) -> ('c -> 'a) -> 'c -> 'b = <fun>\n"
      ]
     },
     "execution_count": 4,
     "metadata": {},
     "output_type": "execute_result"
    },
    {
     "data": {
      "text/plain": [
       "val map2 : ('a -> 'b -> 'c) -> ('d -> 'a) -> ('d -> 'b) -> 'd -> 'c = <fun>\n"
      ]
     },
     "execution_count": 4,
     "metadata": {},
     "output_type": "execute_result"
    },
    {
     "data": {
      "text/plain": [
       "val replace : 'a -> 'b -> (int -> 'b) -> int -> 'b = <fun>\n"
      ]
     },
     "execution_count": 4,
     "metadata": {},
     "output_type": "execute_result"
    },
    {
     "data": {
      "text/plain": [
       "val take : int -> (int -> 'a) -> int -> 'a = <fun>\n"
      ]
     },
     "execution_count": 4,
     "metadata": {},
     "output_type": "execute_result"
    },
    {
     "data": {
      "text/plain": [
       "val tabulate : ?l:int -> int -> (int -> 'a) -> 'a list = <fun>\n"
      ]
     },
     "execution_count": 4,
     "metadata": {},
     "output_type": "execute_result"
    },
    {
     "data": {
      "text/plain": [
       "val s1 : int -> int = <fun>\n"
      ]
     },
     "execution_count": 4,
     "metadata": {},
     "output_type": "execute_result"
    },
    {
     "data": {
      "text/plain": [
       "val s2 : int -> int = <fun>\n"
      ]
     },
     "execution_count": 4,
     "metadata": {},
     "output_type": "execute_result"
    },
    {
     "data": {
      "text/plain": [
       "val scan : ('a -> 'b -> 'a) -> 'a -> (int -> 'b) -> int -> 'a = <fun>\n"
      ]
     },
     "execution_count": 4,
     "metadata": {},
     "output_type": "execute_result"
    },
    {
     "ename": "interrupt",
     "evalue": "intterupt",
     "output_type": "error",
     "traceback": [
      "\u001b[31mException: Sys.Break.\u001b[0m"
     ]
    }
   ],
   "source": [
    "let hd s = s 0\n",
    "\n",
    "let tl s = fun x -> s (x + 1)\n",
    "\n",
    "let add value s = fun x -> s x + value\n",
    "\n",
    "let map f s = fun x -> x |> s |> f\n",
    "\n",
    "let map2 f s1 s2 = \n",
    "  fun x -> f (s1 x) (s2 x)\n",
    "  \n",
    "let replace n a s =\n",
    "  fun x -> if x = 0 then a else s x\n",
    "  \n",
    "let take n s =\n",
    "  fun x -> n*x |> s\n",
    "  \n",
    "let rec tabulate ?(l=0) r s =\n",
    "  if l = r then [s r]\n",
    "  else s l :: tabulate ~l:(l + 1) r s\n",
    "  \n",
    "let s1 x = x + 1\n",
    "let s2 x = x * x\n",
    "\n",
    "let rec scan f a s = \n",
    "    fun k -> \n",
    "        if k = 0 \n",
    "            then (f a (s 0)) \n",
    "            else (f ((scan f a s) (k-1)) (s k))\n"
   ]
  },
  {
   "cell_type": "code",
   "execution_count": null,
   "id": "efeed3f8-f175-4359-afc4-5240c96c3fa7",
   "metadata": {},
   "outputs": [],
   "source": []
  },
  {
   "cell_type": "code",
   "execution_count": null,
   "id": "fe3d3ccb-f6af-4a23-990c-4bffb51fa894",
   "metadata": {},
   "outputs": [],
   "source": []
  }
 ],
 "metadata": {
  "kernelspec": {
   "display_name": "OCaml default",
   "language": "OCaml",
   "name": "ocaml-jupyter"
  },
  "language_info": {
   "codemirror_mode": "text/x-ocaml",
   "file_extension": ".ml",
   "mimetype": "text/x-ocaml",
   "name": "OCaml",
   "nbconverter_exporter": null,
   "pygments_lexer": "OCaml",
   "version": "4.14.0"
  }
 },
 "nbformat": 4,
 "nbformat_minor": 5
}
