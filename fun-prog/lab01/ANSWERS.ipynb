{
 "cells": [
  {
   "cell_type": "markdown",
   "id": "45d9ea7d-052d-468c-9ab2-3765fea86ba5",
   "metadata": {},
   "source": [
    "## Task 6"
   ]
  },
  {
   "cell_type": "code",
   "execution_count": null,
   "id": "7cd2e35d-af65-41f5-9a6c-80475f7d4f03",
   "metadata": {},
   "outputs": [],
   "source": []
  },
  {
   "cell_type": "code",
   "execution_count": 1,
   "id": "3620e6d6-e3ae-422e-8dd9-79db49bc4872",
   "metadata": {},
   "outputs": [
    {
     "data": {
      "text/plain": [
       "val ctrue : 'a -> 'b -> 'a = <fun>\n"
      ]
     },
     "execution_count": 1,
     "metadata": {},
     "output_type": "execute_result"
    },
    {
     "data": {
      "text/plain": [
       "val cfalse : 'a -> 'b -> 'b = <fun>\n"
      ]
     },
     "execution_count": 1,
     "metadata": {},
     "output_type": "execute_result"
    },
    {
     "data": {
      "text/plain": [
       "val cand : ('a -> 'b -> 'c) -> ('d -> 'b -> 'a) -> 'd -> 'b -> 'c = <fun>\n"
      ]
     },
     "execution_count": 1,
     "metadata": {},
     "output_type": "execute_result"
    },
    {
     "data": {
      "text/plain": [
       "val cor : ('a -> 'b -> 'c) -> ('a -> 'd -> 'b) -> 'a -> 'd -> 'c = <fun>\n"
      ]
     },
     "execution_count": 1,
     "metadata": {},
     "output_type": "execute_result"
    },
    {
     "data": {
      "text/plain": [
       "val cbool_of_bool : bool -> 'a -> 'a -> 'a = <fun>\n"
      ]
     },
     "execution_count": 1,
     "metadata": {},
     "output_type": "execute_result"
    },
    {
     "data": {
      "text/plain": [
       "val bool_of_cbool : (bool -> bool -> 'a) -> 'a = <fun>\n"
      ]
     },
     "execution_count": 1,
     "metadata": {},
     "output_type": "execute_result"
    }
   ],
   "source": [
    "let ctrue a b = a\n",
    "let cfalse a b = b\n",
    "let cand f1 f2 a b = f1 (f2 a b) b\n",
    "let cor f1 f2 a b = f1 a (f2 a b)\n",
    "let cbool_of_bool b = if b then ctrue else cfalse\n",
    "let bool_of_cbool f = f true false"
   ]
  },
  {
   "cell_type": "code",
   "execution_count": 2,
   "id": "4952cd4b-e27c-4ad6-bffa-c5cabcfc9d8c",
   "metadata": {},
   "outputs": [
    {
     "ename": "error",
     "evalue": "compile_error",
     "output_type": "error",
     "traceback": [
      "File \"[2]\", line 1, characters 0-2:\n1 | ## Streams\n    ^^\nError: Syntax error\n"
     ]
    }
   ],
   "source": [
    "## Streams"
   ]
  },
  {
   "cell_type": "code",
   "execution_count": 3,
   "id": "1612c34a-87a2-4517-a846-fd1133295811",
   "metadata": {},
   "outputs": [
    {
     "data": {
      "text/plain": [
       "val hd : (int -> 'a) -> 'a = <fun>\n"
      ]
     },
     "execution_count": 3,
     "metadata": {},
     "output_type": "execute_result"
    },
    {
     "data": {
      "text/plain": [
       "val tl : (int -> 'a) -> int -> 'a = <fun>\n"
      ]
     },
     "execution_count": 3,
     "metadata": {},
     "output_type": "execute_result"
    },
    {
     "data": {
      "text/plain": [
       "val add : int -> ('a -> int) -> 'a -> int = <fun>\n"
      ]
     },
     "execution_count": 3,
     "metadata": {},
     "output_type": "execute_result"
    },
    {
     "data": {
      "text/plain": [
       "val map : ('a -> 'b) -> ('c -> 'a) -> 'c -> 'b = <fun>\n"
      ]
     },
     "execution_count": 3,
     "metadata": {},
     "output_type": "execute_result"
    },
    {
     "data": {
      "text/plain": [
       "val map2 : ('a -> 'b -> 'c) -> ('d -> 'a) -> ('d -> 'b) -> 'd -> 'c = <fun>\n"
      ]
     },
     "execution_count": 3,
     "metadata": {},
     "output_type": "execute_result"
    },
    {
     "data": {
      "text/plain": [
       "val replace : 'a -> 'b -> (int -> 'b) -> int -> 'b = <fun>\n"
      ]
     },
     "execution_count": 3,
     "metadata": {},
     "output_type": "execute_result"
    },
    {
     "data": {
      "text/plain": [
       "val take : int -> (int -> 'a) -> int -> 'a = <fun>\n"
      ]
     },
     "execution_count": 3,
     "metadata": {},
     "output_type": "execute_result"
    },
    {
     "data": {
      "text/plain": [
       "val tabulate : ?l:int -> int -> (int -> 'a) -> 'a list = <fun>\n"
      ]
     },
     "execution_count": 3,
     "metadata": {},
     "output_type": "execute_result"
    },
    {
     "data": {
      "text/plain": [
       "val s1 : int -> int = <fun>\n"
      ]
     },
     "execution_count": 3,
     "metadata": {},
     "output_type": "execute_result"
    },
    {
     "data": {
      "text/plain": [
       "val s2 : int -> int = <fun>\n"
      ]
     },
     "execution_count": 3,
     "metadata": {},
     "output_type": "execute_result"
    },
    {
     "data": {
      "text/plain": [
       "val scan : ('a -> 'b -> 'a) -> 'a -> (int -> 'b) -> int -> 'a = <fun>\n"
      ]
     },
     "execution_count": 3,
     "metadata": {},
     "output_type": "execute_result"
    }
   ],
   "source": [
    "let hd s = s 0\n",
    "\n",
    "let tl s = fun x -> s (x + 1)\n",
    "\n",
    "let add value s = fun x -> s x + value\n",
    "\n",
    "let map f s = fun x -> x |> s |> f\n",
    "\n",
    "let map2 f s1 s2 = \n",
    "  fun x -> f (s1 x) (s2 x)\n",
    "  \n",
    "let replace n a s =\n",
    "  fun x -> if x = 0 then a else s x\n",
    "  \n",
    "let take n s =\n",
    "  fun x -> n*x |> s\n",
    "  \n",
    "let rec tabulate ?(l=0) r s =\n",
    "  if l = r then [s r]\n",
    "  else s l :: tabulate ~l:(l + 1) r s\n",
    "  \n",
    "let s1 x = x + 1\n",
    "let s2 x = x * x\n",
    "\n",
    "let rec scan f a s = \n",
    "    fun k -> \n",
    "        if k = 0 \n",
    "            then (f a (s 0)) \n",
    "            else (f ((scan f a s) (k-1)) (s k))\n"
   ]
  },
  {
   "cell_type": "markdown",
   "id": "f7f557bf-63ee-4768-b2dc-ce122f58a8df",
   "metadata": {},
   "source": [
    "### streams test\n"
   ]
  },
  {
   "cell_type": "code",
   "execution_count": 4,
   "id": "fe3d3ccb-f6af-4a23-990c-4bffb51fa894",
   "metadata": {},
   "outputs": [
    {
     "data": {
      "text/plain": [
       "val test : int -> int = <fun>\n"
      ]
     },
     "execution_count": 4,
     "metadata": {},
     "output_type": "execute_result"
    }
   ],
   "source": [
    "let test = replace 10 2137 s1"
   ]
  },
  {
   "cell_type": "code",
   "execution_count": 5,
   "id": "2e98d948-0328-4c4d-b80a-01b4e4a6e280",
   "metadata": {},
   "outputs": [
    {
     "ename": "error",
     "evalue": "runtime_error",
     "output_type": "error",
     "traceback": [
      "\u001b[31mException: Assert_failure (\"[5]\", 1, 8).\nCalled from Stdlib__Fun.protect in file \"fun.ml\", line 33, characters 8-15\nRe-raised at Stdlib__Fun.protect in file \"fun.ml\", line 38, characters 6-52\nCalled from Topeval.load_lambda in file \"toplevel/byte/topeval.ml\", line 89, characters 4-150\n\u001b[0m"
     ]
    }
   ],
   "source": [
    "let _ = assert(test 10 == 2137)"
   ]
  },
  {
   "cell_type": "code",
   "execution_count": 6,
   "id": "8080ccbd-820e-496b-b554-d1e6f4165ff4",
   "metadata": {},
   "outputs": [
    {
     "data": {
      "text/plain": [
       "- : int list = [1; 2; 3; 4; 5; 6; 7; 8; 9; 10; 11]\n"
      ]
     },
     "execution_count": 6,
     "metadata": {},
     "output_type": "execute_result"
    }
   ],
   "source": [
    "tabulate 10 s1"
   ]
  },
  {
   "cell_type": "code",
   "execution_count": null,
   "id": "9bb13cc8-6293-427e-b643-73b8256ebaad",
   "metadata": {},
   "outputs": [],
   "source": []
  },
  {
   "cell_type": "code",
   "execution_count": null,
   "id": "31826b32-afc3-4dba-aad5-f171ea26b059",
   "metadata": {},
   "outputs": [],
   "source": []
  }
 ],
 "metadata": {
  "kernelspec": {
   "display_name": "OCaml default",
   "language": "OCaml",
   "name": "ocaml-jupyter"
  },
  "language_info": {
   "codemirror_mode": "text/x-ocaml",
   "file_extension": ".ml",
   "mimetype": "text/x-ocaml",
   "name": "OCaml",
   "nbconverter_exporter": null,
   "pygments_lexer": "OCaml",
   "version": "4.14.0"
  }
 },
 "nbformat": 4,
 "nbformat_minor": 5
}
