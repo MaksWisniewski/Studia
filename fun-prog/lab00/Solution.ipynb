{
 "cells": [
  {
   "cell_type": "markdown",
   "id": "b614b408-83e4-4cfb-8780-f869f977349d",
   "metadata": {},
   "source": [
    "1. \n",
    "```bash\n",
    "opam search PROOF\n",
    "```"
   ]
  },
  {
   "cell_type": "markdown",
   "id": "deadb2f4-db09-4018-a061-caeabdbf9b38",
   "metadata": {},
   "source": [
    "2."
   ]
  },
  {
   "cell_type": "code",
   "execution_count": 1,
   "id": "32ebadc4-61ca-4814-813d-87d650bb3b5a",
   "metadata": {},
   "outputs": [
    {
     "data": {
      "text/plain": [
       "- : int = 4\n"
      ]
     },
     "execution_count": 1,
     "metadata": {},
     "output_type": "execute_result"
    }
   ],
   "source": [
    "if true then 4 else 5"
   ]
  },
  {
   "cell_type": "code",
   "execution_count": 2,
   "id": "5e750335-8102-4dde-9814-6b9a0a8ca0a4",
   "metadata": {},
   "outputs": [
    {
     "ename": "error",
     "evalue": "compile_error",
     "output_type": "error",
     "traceback": [
      "File \"[2]\", line 1, characters 21-24:\n1 | if false then 1 else 3.5\n                         ^^^\nError: This expression has type float but an expression was expected of type\n         int\n"
     ]
    }
   ],
   "source": [
    "if false then 1 else 3.5\n"
   ]
  },
  {
   "cell_type": "code",
   "execution_count": 3,
   "id": "a3cf1078-17bd-43bf-a6ec-481ec4d59905",
   "metadata": {},
   "outputs": [
    {
     "ename": "error",
     "evalue": "compile_error",
     "output_type": "error",
     "traceback": [
      "File \"[3]\", line 1, characters 0-4:\n1 | 4.75 + 2.34\n    ^^^^\nError: This expression has type float but an expression was expected of type\n         int\n"
     ]
    }
   ],
   "source": [
    "4.75 + 2.34\n"
   ]
  },
  {
   "cell_type": "code",
   "execution_count": 4,
   "id": "b91f755a-686b-450b-b794-eb7b8b63116b",
   "metadata": {},
   "outputs": [
    {
     "data": {
      "text/plain": [
       "- : bool = false\n"
      ]
     },
     "execution_count": 4,
     "metadata": {},
     "output_type": "execute_result"
    }
   ],
   "source": [
    "false || \"ab\">\"cd\"\n"
   ]
  },
  {
   "cell_type": "code",
   "execution_count": 5,
   "id": "4631110b-c17c-46ce-9c3c-7637e3e26b3a",
   "metadata": {},
   "outputs": [
    {
     "data": {
      "text/plain": [
       "- : unit = ()\n"
      ]
     },
     "execution_count": 5,
     "metadata": {},
     "output_type": "execute_result"
    }
   ],
   "source": [
    "if true then ()\n"
   ]
  },
  {
   "cell_type": "code",
   "execution_count": 6,
   "id": "30be307a-ae2d-4f8b-a81a-8d5d491be8a2",
   "metadata": {},
   "outputs": [
    {
     "ename": "error",
     "evalue": "compile_error",
     "output_type": "error",
     "traceback": [
      "File \"[6]\", line 1, characters 22-23:\n1 | if false then () else 4\n                          ^\nError: This expression has type int but an expression was expected of type\n         unit\n"
     ]
    }
   ],
   "source": [
    "if false then () else 4\n"
   ]
  },
  {
   "cell_type": "code",
   "execution_count": 7,
   "id": "e07059ec-8db2-4e77-af85-6f12196ec6e2",
   "metadata": {},
   "outputs": [
    {
     "ename": "error",
     "evalue": "compile_error",
     "output_type": "error",
     "traceback": [
      "File \"[7]\", line 1, characters 13-14:\n1 | let x = 2 in x^\"aa\"\n                 ^\nError: This expression has type int but an expression was expected of type\n         string\n"
     ]
    }
   ],
   "source": [
    "let x = 2 in x^\"aa\"\n"
   ]
  },
  {
   "cell_type": "code",
   "execution_count": 8,
   "id": "acdde991-bf5f-4aff-b81a-d47362626fc0",
   "metadata": {},
   "outputs": [
    {
     "data": {
      "text/plain": [
       "- : string = \"abcabc\"\n"
      ]
     },
     "execution_count": 8,
     "metadata": {},
     "output_type": "execute_result"
    }
   ],
   "source": [
    "let y = \"abc\" in y^y\n"
   ]
  },
  {
   "cell_type": "code",
   "execution_count": 9,
   "id": "ca382c7f-dbaa-49ec-a927-b80d96bfe506",
   "metadata": {},
   "outputs": [
    {
     "data": {
      "text/plain": [
       "- : char = 'b'\n"
      ]
     },
     "execution_count": 9,
     "metadata": {},
     "output_type": "execute_result"
    }
   ],
   "source": [
    "(fun x -> x.[1]) \"abcdef\"\n"
   ]
  },
  {
   "cell_type": "code",
   "execution_count": 10,
   "id": "fda92749-d898-4124-8e50-dcf5ae30718e",
   "metadata": {},
   "outputs": [
    {
     "data": {
      "text/plain": [
       "- : bool = true\n"
      ]
     },
     "execution_count": 10,
     "metadata": {},
     "output_type": "execute_result"
    }
   ],
   "source": [
    "(fun x -> x) true\n"
   ]
  },
  {
   "cell_type": "code",
   "execution_count": 11,
   "id": "1f9c27ee-542f-45fd-969f-d09ab9d46a58",
   "metadata": {},
   "outputs": [
    {
     "data": {
      "text/plain": [
       "- : int list = [1; 2; 1; 2]\n"
      ]
     },
     "execution_count": 11,
     "metadata": {},
     "output_type": "execute_result"
    }
   ],
   "source": [
    "let x = [1;2] in x@x\n"
   ]
  },
  {
   "cell_type": "code",
   "execution_count": 12,
   "id": "d6ce25d3-0778-4c7a-b8af-33304b2a1495",
   "metadata": {},
   "outputs": [
    {
     "data": {
      "text/plain": [
       "- : int = 84\n"
      ]
     },
     "execution_count": 12,
     "metadata": {},
     "output_type": "execute_result"
    }
   ],
   "source": [
    "let rec f f = f+f in f 42\n"
   ]
  },
  {
   "cell_type": "code",
   "execution_count": 13,
   "id": "9c00f8dc-8980-445f-aa24-1bab0387749c",
   "metadata": {},
   "outputs": [
    {
     "data": {
      "text/plain": [
       "- : (int * bool) list = [(1, true)]\n"
      ]
     },
     "execution_count": 13,
     "metadata": {},
     "output_type": "execute_result"
    }
   ],
   "source": [
    "[1,true]"
   ]
  },
  {
   "cell_type": "code",
   "execution_count": null,
   "id": "da127590-7db4-4bc5-938e-16aa7f85a7a4",
   "metadata": {},
   "outputs": [],
   "source": []
  }
 ],
 "metadata": {
  "kernelspec": {
   "display_name": "OCaml default",
   "language": "OCaml",
   "name": "ocaml-jupyter"
  },
  "language_info": {
   "codemirror_mode": "text/x-ocaml",
   "file_extension": ".ml",
   "mimetype": "text/x-ocaml",
   "name": "OCaml",
   "nbconverter_exporter": null,
   "pygments_lexer": "OCaml",
   "version": "4.14.0"
  }
 },
 "nbformat": 4,
 "nbformat_minor": 5
}
