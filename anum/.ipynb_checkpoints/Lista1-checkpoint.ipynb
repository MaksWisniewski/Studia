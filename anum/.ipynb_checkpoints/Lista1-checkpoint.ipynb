{
 "cells": [
  {
   "cell_type": "markdown",
   "id": "dc04ad7c-03b8-4e07-b198-6434cc495447",
   "metadata": {},
   "source": [
    "## Zadanie 3"
   ]
  },
  {
   "cell_type": "code",
   "execution_count": 1,
   "id": "4f876f57-5865-4b93-b8b9-7b543790fc4c",
   "metadata": {},
   "outputs": [
    {
     "data": {
      "text/plain": [
       "polynomial_1 (generic function with 1 method)"
      ]
     },
     "execution_count": 1,
     "metadata": {},
     "output_type": "execute_result"
    }
   ],
   "source": [
    "function polynomial_1(x, type_of)\n",
    "    x = type_of(x)\n",
    "    return x^3 - 6*x^2 + 3*x - type_of(0.149)\n",
    "end    "
   ]
  },
  {
   "cell_type": "code",
   "execution_count": 2,
   "id": "fdd57b0a-2998-4f0e-8230-579556c72972",
   "metadata": {},
   "outputs": [
    {
     "data": {
      "text/plain": [
       "polynomial_2 (generic function with 1 method)"
      ]
     },
     "execution_count": 2,
     "metadata": {},
     "output_type": "execute_result"
    }
   ],
   "source": [
    "function polynomial_2(x, type_of)\n",
    "    x = type_of(x)\n",
    "    return ( (x - type_of(6)) * x + type_of(3) ) * x - type_of(0.149)\n",
    "end"
   ]
  },
  {
   "cell_type": "code",
   "execution_count": 3,
   "id": "c8240eda-c31d-46c5-86dc-ac594aeb2a5a",
   "metadata": {},
   "outputs": [
    {
     "data": {
      "text/plain": [
       "relative_error (generic function with 1 method)"
      ]
     },
     "execution_count": 3,
     "metadata": {},
     "output_type": "execute_result"
    }
   ],
   "source": [
    "# x is current approximation, type_of is the function i.e type? (example Float64)\n",
    "\n",
    "function relative_error(x, prev_x)\n",
    "    x = BigFloat(x)\n",
    "    prev_x = BigFloat(prev_x)\n",
    "    return abs( (x - prev_x) / prev_x)\n",
    "end"
   ]
  },
  {
   "cell_type": "code",
   "execution_count": 4,
   "id": "6de72a9d-6936-4944-a93f-7c43edaf05de",
   "metadata": {},
   "outputs": [
    {
     "data": {
      "text/plain": [
       "measure_polynomial (generic function with 3 methods)"
      ]
     },
     "execution_count": 4,
     "metadata": {},
     "output_type": "execute_result"
    }
   ],
   "source": [
    "function measure_polynomial(type_of, polynomial, x=4.71, exact_value=-14.636489)\n",
    "    answer = relative_error(polynomial(x, type_of), exact_value)\n",
    "    println(\"\"\"Testing $(polynomial), with type of $(type_of) in point $(x) which has exact value = $(exact_value). \\n Relative error = $(answer) \\n\"\"\")\n",
    "end"
   ]
  },
  {
   "cell_type": "code",
   "execution_count": 5,
   "id": "648d5c0f-616d-4c8b-8645-007e2cce22e0",
   "metadata": {},
   "outputs": [
    {
     "name": "stdout",
     "output_type": "stream",
     "text": [
      "Testing polynomial_1, with type of Float16 in point 4.71 which has exact value = -14.636489. \n",
      " Relative error = 0.003987568330082385025135424442017070298468882460760617432074538144496802485254449 \n",
      "\n",
      "Testing polynomial_1, with type of Float32 in point 4.71 which has exact value = -14.636489. \n",
      " Relative error = 7.760455081662309344947334679461339196306597500199454603693493406227694495922728e-07 \n",
      "\n",
      "Testing polynomial_1, with type of Float64 in point 4.71 which has exact value = -14.636489. \n",
      " Relative error = 4.854598228851879880376743030299856336391313732057250135484332760007694841348534e-16 \n",
      "\n",
      "Testing polynomial_2, with type of Float16 in point 4.71 which has exact value = -14.636489. \n",
      " Relative error = 0.0002511872895199931147259646194522897476056896296916594052923954687258901687468174 \n",
      "\n",
      "Testing polynomial_2, with type of Float32 in point 4.71 which has exact value = -14.636489. \n",
      " Relative error = 5.931504907397523181434741102278385581412931716282809334571008571414717905683749e-08 \n",
      "\n",
      "Testing polynomial_2, with type of Float64 in point 4.71 which has exact value = -14.636489. \n",
      " Relative error = 0.0 \n",
      "\n"
     ]
    }
   ],
   "source": [
    "for poly in [polynomial_1, polynomial_2]\n",
    "    for t in [Float16, Float32, Float64]\n",
    "        measure_polynomial(t, poly)\n",
    "    end\n",
    "end"
   ]
  },
  {
   "cell_type": "markdown",
   "id": "8b118b7c-60ad-4a3c-ab88-6b7e79dcb08a",
   "metadata": {},
   "source": [
    "## Zadanie 6"
   ]
  },
  {
   "cell_type": "code",
   "execution_count": 6,
   "id": "bd1dd7de-a372-4e3d-a73a-16a609228781",
   "metadata": {},
   "outputs": [
    {
     "data": {
      "text/plain": [
       "inv_bitstring (generic function with 1 method)"
      ]
     },
     "execution_count": 6,
     "metadata": {},
     "output_type": "execute_result"
    }
   ],
   "source": [
    "function inv_bitstring(str)\n",
    "    sign = str[1]\n",
    "    exponent = str[2:12]\n",
    "    mantissa = str[13:end]\n",
    "    \n",
    "    exponent = parse(Int64, string(\"0b\", exponent))\n",
    "    exponent = 2.0^(exponent - 1023)\n",
    "    mantissa = Float64(parse(Int64, string(\"0b\", mantissa))) / Float64(2^52) + Float64(1)\n",
    "    answer = exponent*mantissa\n",
    "    return sign == '0' ? answer : Float64(-1) * answer\n",
    "end"
   ]
  },
  {
   "cell_type": "code",
   "execution_count": 7,
   "id": "fbd8cfcc-aa08-4ac5-87e4-98a944ba57d0",
   "metadata": {},
   "outputs": [
    {
     "name": "stdout",
     "output_type": "stream",
     "text": [
      "passed\n"
     ]
    }
   ],
   "source": [
    "for i in 1:Float64(1/30):50\n",
    "    if inv_bitstring(bitstring(Float64(i))) != Float64(i)\n",
    "        break\n",
    "    end\n",
    "    if i == 50\n",
    "        println(\"passed\")\n",
    "    end\n",
    "end"
   ]
  },
  {
   "cell_type": "markdown",
   "id": "d544a3e6-876b-4946-ab24-7a0963a018d5",
   "metadata": {},
   "source": [
    "## Zadanie 7"
   ]
  },
  {
   "cell_type": "code",
   "execution_count": 15,
   "id": "b40b4120-4847-4b02-aa11-990af256e77e",
   "metadata": {},
   "outputs": [
    {
     "data": {
      "text/plain": [
       "f (generic function with 3 methods)"
      ]
     },
     "execution_count": 15,
     "metadata": {},
     "output_type": "execute_result"
    }
   ],
   "source": [
    "function f(low=1, hi=1.2)\n",
    "    for i in Float64(low):eps(Float64):Float64(hi)\n",
    "        if i * ( 1 / i) != 1\n",
    "            return i\n",
    "        end\n",
    "    end\n",
    "    return 0\n",
    "end"
   ]
  },
  {
   "cell_type": "code",
   "execution_count": 17,
   "id": "8f5d8ea4-b062-4e82-9a5b-c04c5fa18df7",
   "metadata": {},
   "outputs": [
    {
     "data": {
      "text/plain": [
       "25.00000000000001"
      ]
     },
     "execution_count": 17,
     "metadata": {},
     "output_type": "execute_result"
    }
   ],
   "source": [
    "f(25,33)"
   ]
  },
  {
   "cell_type": "code",
   "execution_count": 11,
   "id": "eb40c3f7-dace-48cb-82f3-0a9b532ab0ea",
   "metadata": {},
   "outputs": [
    {
     "data": {
      "text/plain": [
       "Vector{Any}\u001b[90m (alias for \u001b[39m\u001b[90mArray{Any, 1}\u001b[39m\u001b[90m)\u001b[39m"
      ]
     },
     "execution_count": 11,
     "metadata": {},
     "output_type": "execute_result"
    }
   ],
   "source": [
    "typeof([polynomial_2, 3])"
   ]
  }
 ],
 "metadata": {
  "kernelspec": {
   "display_name": "Julia 1.8.0",
   "language": "julia",
   "name": "julia-1.8"
  },
  "language_info": {
   "file_extension": ".jl",
   "mimetype": "application/julia",
   "name": "julia",
   "version": "1.8.2"
  }
 },
 "nbformat": 4,
 "nbformat_minor": 5
}
